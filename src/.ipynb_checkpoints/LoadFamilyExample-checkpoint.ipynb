{
 "cells": [
  {
   "cell_type": "code",
   "execution_count": 2,
   "metadata": {},
   "outputs": [
    {
     "name": "stderr",
     "output_type": "stream",
     "text": [
      "FastTree Version 2.1.9 No SSE3\n",
      "Alignment: ../data/families/aat.ali_7.fas\n",
      "Amino acid distances: BLOSUM45 Joins: balanced Support: none\n",
      "Search: Normal +NNI +SPR (2 rounds range 10) +ML-NNI opt-each=1\n",
      "TopHits: 1.00*sqrtN close=default refresh=0.80\n",
      "ML Model: Jones-Taylor-Thorton, CAT approximation with 20 rate categories\n",
      "Initial topology in 0.00 seconds\n",
      "Refining topology: 11 rounds ME-NNIs, 2 rounds ME-SPRs, 6 rounds ML-NNIs\n",
      "Total branch-length 2.757 after 0.01 sec\n",
      "ML-NNI round 1: LogLk = -5018.978 NNIs 0 max delta 0.00 Time 0.08\n",
      "      0.10 seconds: Site likelihoods with rate category 10 of 20\n",
      "Switched to using 20 rate categories (CAT approximation)\n",
      "Rate categories were divided by 0.849 so that average rate = 1.0\n",
      "CAT-based log-likelihoods may not be comparable across runs\n",
      "Use -gamma for approximate but comparable Gamma(20) log-likelihoods\n",
      "ML-NNI round 2: LogLk = -4772.196 NNIs 0 max delta 0.00 Time 0.13\n",
      "Turning off heuristics for final round of ML NNIs (converged)\n",
      "ML-NNI round 3: LogLk = -4769.257 NNIs 0 max delta 0.00 Time 0.20 (final)\n",
      "Optimize all lengths: LogLk = -4769.245 Time 0.22\n",
      "Total time: 0.27 seconds Unique: 7/7 Bad splits: 0/4\n"
     ]
    },
    {
     "data": {
      "text/plain": [
       "(\"(1yaaa:0.59575,(1ajsa:0.11912,2csta:0.09798):0.36048,(1ama:0.51098,(3tata:0.62882,(1ay8a:0.70668,1ars:0.43773):0.17891):0.25313):0.16166);\\r\\n\", \"C:\\\\Dropbox\\\\dev\\\\ProteinEvolution\\\\src\\\\..\\\\cache\\\\47f4w8o57nqzv72qlqpsdijn9ev10wp0pxgki92dymv6tmz7hl.fasttreeaa.nwk\")"
      ]
     },
     "execution_count": 2,
     "metadata": {},
     "output_type": "execute_result"
    }
   ],
   "source": [
    "using JSON\n",
    "push!(LOAD_PATH,@__DIR__)\n",
    "using Binaries\n",
    "JSON.parse(open(\"../data/families/aat.ali_7.fam\", \"r\"))\n",
    "Binaries.fasttreeaa(\"../data/families/aat.ali_7.fas\")\n"
   ]
  },
  {
   "cell_type": "code",
   "execution_count": 3,
   "metadata": {},
   "outputs": [
    {
     "data": {
      "text/plain": [
       "2-element Array{Any,1}:\n",
       " Dict{String,Any}(\"name\"=>\"1bgxt\",\"aligned_phi_psi\"=>Any[Any[-1000.0, 2.04321], Any[0.462835, 2.83412], Any[2.09124, 2.69947], Any[-2.92063, -0.578366], Any[-2.35655, 2.4521], Any[-1.046, 2.84787], Any[2.74824, -3.09431], Any[2.91107, 2.8475], Any[1.84011, 1.84291], Any[-1.0863, -2.82461]  …  Any[-1000.0, -1000.0], Any[1.16232, 0.310071], Any[-2.08458, 0.599994], Any[-1.6797, 0.389183], Any[-1.98233, -0.303587], Any[-1.53792, 0.43234], Any[-1.58622, -0.0857756], Any[-1.71539, 0.891389], Any[-1.9713, 0.0408562], Any[-1.50217, -1000.0]],\"aligned_sequence\"=>\"MRGMLPLFEPKGRVLLVDGHHLAYRTFHALKGLTTSRGEPVQAVYGFAKSLLKALKEDGDAVIVVFDAKAPSFRHEAYGGYKAGRAPTPEDFPRQLALIKELVDLLGLARLEVPGYEADDVLASLAKKAEKEGYEVRILTADKDLYQLLSDRIHVLHPEG-YLITPAWLWEKYGL-RPDQWADYRALTGDESDNLPGVKGIGEKTARKLLEEWG-SLEALL---KNLD-RLKPAIREKILAHMDDLKLSWDLAKVRT---DLPLEVDFAKRREPDRERLRAFLERL-EFGSLLHEF\",\"omega\"=>Any[-1000.0, 3.13349, 3.13934, 3.13254, -3.13697, -3.11965, 3.1257, -3.11452, 3.03273, 3.10956  …  3.11774, -3.14128, 3.13179, 3.13335, -3.13752, -3.12858, 3.14028, -3.13598, 3.14097, -3.13799],\"phi_psi\"=>Any[Any[-1000.0, 2.04321], Any[0.462835, 2.83412], Any[2.09124, 2.69947], Any[-2.92063, -0.578366], Any[-2.35655, 2.4521], Any[-1.046, 2.84787], Any[2.74824, -3.09431], Any[2.91107, 2.8475], Any[1.84011, 1.84291], Any[-1.0863, -2.82461]  …  Any[-1.82583, -0.0357247], Any[1.16232, 0.310071], Any[-2.08458, 0.599994], Any[-1.6797, 0.389183], Any[-1.98233, -0.303587], Any[-1.53792, 0.43234], Any[-1.58622, -0.0857756], Any[-1.71539, 0.891389], Any[-1.9713, 0.0408562], Any[-1.50217, -1000.0]],\"sequence\"=>\"MRGMLPLFEPKGRVLLVDGHHLAYRTFHALKGLTTSRGEPVQAVYGFAKSLLKALKEDGDAVIVVFDAKAPSFRHEAYGGYKAGRAPTPEDFPRQLALIKELVDLLGLARLEVPGYEADDVLASLAKKAEKEGYEVRILTADKDLYQLLSDRIHVLHPEGYLITPAWLWEKYGLRPDQWADYRALTGDESDNLPGVKGIGEKTARKLLEEWGSLEALLKNLDRLKPAIREKILAHMDDLKLSWDLAKVRTDLPLEVDFAKRREPDRERLRAFLERLEFGSLLHEF\",\"aligned_omega\"=>Any[-1000.0, 3.13349, 3.13934, 3.13254, -3.13697, -3.11965, 3.1257, -3.11452, 3.03273, 3.10956  …  -1000.0, -3.14128, 3.13179, 3.13335, -3.13752, -3.12858, 3.14028, -3.13598, 3.14097, -3.13799])\n",
       " Dict{String,Any}(\"name\"=>\"1xo1a\",\"aligned_phi_psi\"=>Any[Any[-1000.0, -1000.0], Any[-1000.0, -1000.0], Any[-1000.0, -1000.0], Any[-1000.0, -1000.0], Any[-1000.0, -1000.0], Any[-1000.0, -1000.0], Any[-1000.0, -1000.0], Any[-1000.0, -1000.0], Any[-1000.0, -1000.0], Any[-1000.0, -1000.0]  …  Any[-1.26779, -0.633185], Any[-1.18007, -0.754774], Any[-1.02616, -0.816099], Any[-1.22448, -0.174882], Any[1.17861, -1000.0], Any[-1000.0, -1000.0], Any[-1000.0, -1000.0], Any[-1000.0, -1000.0], Any[-1000.0, -1000.0], Any[-1000.0, -1000.0]],\"aligned_sequence\"=>\"----------RRNLMIVDGTNLGFRFP--------------FASSYVSTIQSLAKSYSARTTIVLGDKG-KSVFRLEHLP--------EYAFFEYLKDAFELCKT-TFPTFTIRGVEADDMAAYIVKLIGHLYDHVWLISTDGDWDTLLTDKVSRFSFTTRREYHLRDMYEHHNVDDVEQFISLKAIMGDLGDNIRGVEG----IGAKRGYNIIREFGNVLDIIDQLPLPGKQKYIQNLNASEELLFRNLILVDLPTYCVDAIAAVG--------QDVLDKFTKDILEIAE-----\",\"omega\"=>Any[-1000.0, -3.11185, 3.12054, 3.09163, 3.1145, 3.13411, -3.11387, 3.0965, -3.08665, 3.14094  …  3.12962, 3.13375, -3.14006, -3.14026, -3.13681, 3.10507, 3.12509, 3.13274, 3.1397, -3.1377],\"phi_psi\"=>Any[Any[-1000.0, -0.859378], Any[-2.36808, 0.183865], Any[-1.91249, 2.94035], Any[-1.99839, 2.36617], Any[-2.1211, 2.24063], Any[-2.07022, 2.13919], Any[-1.81266, 2.27192], Any[-1.51346, 1.50965], Any[-0.896125, -0.973707], Any[-1.05432, -0.778814]  …  Any[-1.18084, -0.763685], Any[-1.08442, -0.708904], Any[-1.16605, -0.72882], Any[-1.12298, -0.802367], Any[-1.24363, -0.481487], Any[-1.26779, -0.633185], Any[-1.18007, -0.754774], Any[-1.02616, -0.816099], Any[-1.22448, -0.174882], Any[1.17861, -1000.0]],\"sequence\"=>\"RRNLMIVDGTNLGFRFPFASSYVSTIQSLAKSYSARTTIVLGDKGKSVFRLEHLPEYAFFEYLKDAFELCKTTFPTFTIRGVEADDMAAYIVKLIGHLYDHVWLISTDGDWDTLLTDKVSRFSFTTRREYHLRDMYEHHNVDDVEQFISLKAIMGDLGDNIRGVEGIGAKRGYNIIREFGNVLDIIDQLPLPGKQKYIQNLNASEELLFRNLILVDLPTYCVDAIAAVGQDVLDKFTKDILEIAE\",\"aligned_omega\"=>Any[-1000.0, -1000.0, -1000.0, -1000.0, -1000.0, -1000.0, -1000.0, -1000.0, -1000.0, -1000.0  …  3.10507, 3.12509, 3.13274, 3.1397, -3.1377, -1000.0, -1000.0, -1000.0, -1000.0, -1000.0])                                            "
      ]
     },
     "execution_count": 3,
     "metadata": {},
     "output_type": "execute_result"
    }
   ],
   "source": [
    "using JSON\n",
    "push!(LOAD_PATH,@__DIR__)\n",
    "using Binaries\n",
    "\n",
    "mutable struct Atom\n",
    "    name::String\n",
    "    coord::Array{Float64,1}\n",
    "    \n",
    "    function Atom(name::String, coord::Array{Float64,1})\n",
    "        new(name,coord)\n",
    "    end\n",
    "end\n",
    "\n",
    "mutable struct Residue\n",
    "    resname::String\n",
    "    atoms::Array{Atom,1}\n",
    "    \n",
    "    function Residue(resname::String)\n",
    "        atoms = Atom[]\n",
    "    end\n",
    "end\n",
    "\n",
    "mutable struct Chain\n",
    "    residues::Array{Residue,1}\n",
    "    \n",
    "    function Chain()\n",
    "        atoms = Residue[]\n",
    "    end\n",
    "end\n",
    "\n",
    "function add_residue(chain::Chain, residue::Residue)\n",
    "    push!(chain.residues, residue)\n",
    "end\n",
    "\n",
    "function add_atom(residue::Residue, atom::Atom)\n",
    "    push!(residue.atoms, atom)\n",
    "end\n",
    "\n",
    "chain = Chain()\n",
    "add_residue(chain, Residue(\"MET\"))\n",
    "\n",
    "\n",
    "data = JSON.parse(open(\"../data/families/5_3_exonuclease.ali_2.fam\", \"r\"))\n"
   ]
  },
  {
   "cell_type": "code",
   "execution_count": null,
   "metadata": {},
   "outputs": [],
   "source": []
  }
 ],
 "metadata": {
  "kernelspec": {
   "display_name": "Julia 1.0.3",
   "language": "julia",
   "name": "julia-1.0"
  },
  "language_info": {
   "file_extension": ".jl",
   "mimetype": "application/julia",
   "name": "julia",
   "version": "1.0.3"
  }
 },
 "nbformat": 4,
 "nbformat_minor": 2
}
