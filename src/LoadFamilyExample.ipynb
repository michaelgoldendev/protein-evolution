{
 "cells": [
  {
   "cell_type": "code",
   "execution_count": 2,
   "metadata": {},
   "outputs": [
    {
     "name": "stderr",
     "output_type": "stream",
     "text": [
      "FastTree Version 2.1.9 No SSE3\n",
      "Alignment: ../data/families/aat.ali_7.fas\n",
      "Amino acid distances: BLOSUM45 Joins: balanced Support: none\n",
      "Search: Normal +NNI +SPR (2 rounds range 10) +ML-NNI opt-each=1\n",
      "TopHits: 1.00*sqrtN close=default refresh=0.80\n",
      "ML Model: Jones-Taylor-Thorton, CAT approximation with 20 rate categories\n",
      "Initial topology in 0.00 seconds\n",
      "Refining topology: 11 rounds ME-NNIs, 2 rounds ME-SPRs, 6 rounds ML-NNIs\n",
      "Total branch-length 2.757 after 0.01 sec\n",
      "ML-NNI round 1: LogLk = -5018.978 NNIs 0 max delta 0.00 Time 0.08\n",
      "      0.10 seconds: Site likelihoods with rate category 10 of 20\n",
      "Switched to using 20 rate categories (CAT approximation)\n",
      "Rate categories were divided by 0.849 so that average rate = 1.0\n",
      "CAT-based log-likelihoods may not be comparable across runs\n",
      "Use -gamma for approximate but comparable Gamma(20) log-likelihoods\n",
      "ML-NNI round 2: LogLk = -4772.196 NNIs 0 max delta 0.00 Time 0.13\n",
      "Turning off heuristics for final round of ML NNIs (converged)\n",
      "ML-NNI round 3: LogLk = -4769.257 NNIs 0 max delta 0.00 Time 0.20 (final)\n",
      "Optimize all lengths: LogLk = -4769.245 Time 0.22\n",
      "Total time: 0.27 seconds Unique: 7/7 Bad splits: 0/4\n"
     ]
    },
    {
     "data": {
      "text/plain": [
       "(\"(1yaaa:0.59575,(1ajsa:0.11912,2csta:0.09798):0.36048,(1ama:0.51098,(3tata:0.62882,(1ay8a:0.70668,1ars:0.43773):0.17891):0.25313):0.16166);\\r\\n\", \"C:\\\\Dropbox\\\\dev\\\\ProteinEvolution\\\\src\\\\..\\\\cache\\\\47f4w8o57nqzv72qlqpsdijn9ev10wp0pxgki92dymv6tmz7hl.fasttreeaa.nwk\")"
      ]
     },
     "execution_count": 2,
     "metadata": {},
     "output_type": "execute_result"
    }
   ],
   "source": [
    "using JSON\n",
    "push!(LOAD_PATH,@__DIR__)\n",
    "using Binaries\n",
    "JSON.parse(open(\"../data/families/aat.ali_7.fam\", \"r\"))\n",
    "Binaries.fasttreeaa(\"../data/families/aat.ali_7.fas\")\n"
   ]
  },
  {
   "cell_type": "code",
   "execution_count": 4,
   "metadata": {},
   "outputs": [
    {
     "ename": "ErrorException",
     "evalue": "invalid redefinition of constant Residue",
     "output_type": "error",
     "traceback": [
      "invalid redefinition of constant Residue",
      "",
      "Stacktrace:",
      " [1] top-level scope at none:0"
     ]
    }
   ],
   "source": [
    "using JSON\n",
    "push!(LOAD_PATH,@__DIR__)\n",
    "using Binaries\n",
    "\n",
    "mutable struct Atom\n",
    "    name::String\n",
    "    coord::Array{Float64,1}\n",
    "    \n",
    "    function Atom(name::String, coord::Array{Float64,1})\n",
    "        new(name,coord)\n",
    "    end\n",
    "end\n",
    "\n",
    "mutable struct Residue\n",
    "    resname::String\n",
    "    atoms::Array{Atom,1}\n",
    "    \n",
    "    function Residue(resname::String)\n",
    "        atoms = Atom[]\n",
    "    end\n",
    "end\n",
    "\n",
    "mutable struct Chain\n",
    "    residues::Array{Residue,1}\n",
    "    \n",
    "    function Chain()\n",
    "        atoms = Residue[]\n",
    "    end\n",
    "end\n",
    "\n",
    "function add_residue(chain::Chain, residue::Residue)\n",
    "    push!(chain.residues, residue)\n",
    "end\n",
    "\n",
    "function add_atom(residue::Residue, atom::Atom)\n",
    "    push!(residue.atoms, atom)\n",
    "end\n",
    "\n",
    "chain = Chain()\n",
    "add_residue(chain, Residue(\"MET\"))\n",
    "\n",
    "\n",
    "data = JSON.parse(open(\"../data/families/5_3_exonuclease.ali_2.fam\", \"r\"))\n"
   ]
  },
  {
   "cell_type": "code",
   "execution_count": null,
   "metadata": {},
   "outputs": [],
   "source": []
  }
 ],
 "metadata": {
  "kernelspec": {
   "display_name": "Julia 1.0.3",
   "language": "julia",
   "name": "julia-1.0"
  },
  "language_info": {
   "file_extension": ".jl",
   "mimetype": "application/julia",
   "name": "julia",
   "version": "1.0.3"
  }
 },
 "nbformat": 4,
 "nbformat_minor": 2
}
